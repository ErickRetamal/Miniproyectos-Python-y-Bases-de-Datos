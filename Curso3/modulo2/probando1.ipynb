{
 "cells": [
  {
   "cell_type": "code",
   "execution_count": 3,
   "metadata": {},
   "outputs": [
    {
     "name": "stdout",
     "output_type": "stream",
     "text": [
      "<_csv.reader object at 0x000002BDBEC8BD60>\n",
      "['d']\n",
      "['i']\n",
      "['r']\n",
      "['e']\n",
      "['c']\n",
      "['t']\n",
      "['o']\n",
      "['r']\n",
      "['s']\n",
      "['.']\n",
      "['c']\n",
      "['s']\n",
      "['v']\n"
     ]
    }
   ],
   "source": [
    "import csv \n",
    "import MySQLdb\n",
    "import mysql.connector\n",
    "\n",
    "Basedatos = mysql.connector.connect(\n",
    "    host=\"localhost\",\n",
    "    port=3306,\n",
    "    user=\"root\",\n",
    "    password=\"3124\",\n",
    "    db=\"cine\"\n",
    "    )\n",
    "\n",
    "cursor = Basedatos.cursor()\n",
    "\n",
    "csv_data = csv.reader('directors.csv') \n",
    "print (csv_data)\n",
    "\n",
    "for a in csv_data:\n",
    "    print (a)"
   ]
  }
 ],
 "metadata": {
  "kernelspec": {
   "display_name": "Python 3",
   "language": "python",
   "name": "python3"
  },
  "language_info": {
   "codemirror_mode": {
    "name": "ipython",
    "version": 3
   },
   "file_extension": ".py",
   "mimetype": "text/x-python",
   "name": "python",
   "nbconvert_exporter": "python",
   "pygments_lexer": "ipython3",
   "version": "3.11.1"
  },
  "orig_nbformat": 4,
  "vscode": {
   "interpreter": {
    "hash": "c2b9a9954fdc57c60aba3cd7b2ebbcfed9653792749b9e4128320be8c19325b9"
   }
  }
 },
 "nbformat": 4,
 "nbformat_minor": 2
}
